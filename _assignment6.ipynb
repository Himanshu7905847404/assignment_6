{
 "cells": [
  {
   "cell_type": "code",
   "execution_count": 1,
   "id": "5bebe5ec-0ac0-497a-8b96-a7d10b94e3ce",
   "metadata": {},
   "outputs": [],
   "source": [
    "# Solution\n"
   ]
  },
  {
   "cell_type": "code",
   "execution_count": 2,
   "id": "4edbd6f4-9b39-4478-856d-7760014e3e2d",
   "metadata": {},
   "outputs": [
    {
     "name": "stdin",
     "output_type": "stream",
     "text": [
      "Enter Your percentage for finding the grade\n",
      " 90\n"
     ]
    },
    {
     "name": "stdout",
     "output_type": "stream",
     "text": [
      "\n",
      "        Your Grade is : \n",
      "         A\n"
     ]
    }
   ],
   "source": [
    "# Q1.\n",
    "\n",
    "Student_percentage = float(input(\"Enter Your percentage for finding the grade\\n\"))\n",
    "Grade = ''\n",
    "if Student_percentage >= 90:\n",
    "    Grade = 'A'\n",
    "elif Student_percentage > 80 and Student_percentage <= 90 :\n",
    "    Grade = 'B'\n",
    "elif Student_percentage>= 60 and Student_percentage <= 80 :\n",
    "    Grade = 'C'\n",
    "elif Student_percentage < 60 :\n",
    "    Grade = 'D'\n",
    "print('''\n",
    "        Your Grade is : \n",
    "        ''',Grade)"
   ]
  },
  {
   "cell_type": "code",
   "execution_count": 6,
   "id": "df1b6a1a-5e5d-4487-a0fe-dbb1cc00ff10",
   "metadata": {},
   "outputs": [
    {
     "name": "stdout",
     "output_type": "stream",
     "text": [
      "\n",
      "        Road tax to be paid according to the following criteria:\n",
      "        \n",
      "        Tax            Cost Price(in Rs)\n",
      "        \n",
      "        15%             >100000\n",
      "        \n",
      "        10%             >50000 and <= 100000\n",
      "        \n",
      "        5%              <= 50000\n",
      "        \n",
      "        \n"
     ]
    },
    {
     "name": "stdin",
     "output_type": "stream",
     "text": [
      "Enter the cost price of a bike\n",
      " 20000\n"
     ]
    },
    {
     "name": "stdout",
     "output_type": "stream",
     "text": [
      "Total price tax to paid : \n",
      " 1000.0\n"
     ]
    }
   ],
   "source": [
    "#Q2.\n",
    "\n",
    "print('''\n",
    "        Road tax to be paid according to the following criteria:\n",
    "        \n",
    "        Tax            Cost Price(in Rs)\n",
    "        \n",
    "        15%             >100000\n",
    "        \n",
    "        10%             >50000 and <= 100000\n",
    "        \n",
    "        5%              <= 50000\n",
    "        \n",
    "        ''')\n",
    "cost_price = int(input(\"Enter the cost price of a bike\\n\"))\n",
    "\n",
    "Total_price = 0\n",
    "if cost_price > 100000:\n",
    "    Total_price = cost_price * 0.15\n",
    "elif cost_price > 50000 and cost_price <= 100000 :\n",
    "    Total_price = cost_price * 0.1\n",
    "elif cost_price <= 50000:\n",
    "    Total_price = cost_price * 0.05\n",
    "print(\"Total price tax to paid : \\n\", Total_price)"
   ]
  },
  {
   "cell_type": "code",
   "execution_count": 7,
   "id": "3affc1a6-071c-4692-9ae3-396ea336bf3a",
   "metadata": {},
   "outputs": [
    {
     "name": "stdout",
     "output_type": "stream",
     "text": [
      "\n",
      "        Choose the City name following below:\n",
      "        \n",
      "        City            Monument\n",
      "       \n",
      "         Delhi            Red Fort\n",
      "         \n",
      "         Agra             Taj Mahal\n",
      "         \n",
      "         Jaipur           Jal Mahal\n",
      "         \n",
      "         \n"
     ]
    },
    {
     "name": "stdin",
     "output_type": "stream",
     "text": [
      "Enter the city name\n",
      " jaipur\n"
     ]
    },
    {
     "name": "stdout",
     "output_type": "stream",
     "text": [
      "Jal Mahal is situated in jaipur\n"
     ]
    }
   ],
   "source": [
    "#cQ3.\n",
    "\n",
    "print('''\n",
    "        Choose the City name following below:\n",
    "        \n",
    "        City            Monument\n",
    "       \n",
    "         Delhi            Red Fort\n",
    "         \n",
    "         Agra             Taj Mahal\n",
    "         \n",
    "         Jaipur           Jal Mahal\n",
    "         \n",
    "         ''')\n",
    "city = input(\"Enter the city name\\n\")\n",
    "\n",
    "monument = ''\n",
    "\n",
    "if city == 'Delhi' or city  == 'delhi' or city  == 'DELHI' :\n",
    "    \n",
    "    monument = 'Red Fort'\n",
    "    \n",
    "elif city == 'Agra' or city == 'agra' or city == 'AGRA' :\n",
    "    \n",
    "    monument = ' Taj Mahal '\n",
    "    \n",
    "elif city == 'Jaipur' or city == 'jaipur' or city == 'JAIPUR' :\n",
    "    \n",
    "          monument = 'Jal Mahal'\n",
    "         \n",
    "print(monument + \" is situated in \" +  city)"
   ]
  },
  {
   "cell_type": "code",
   "execution_count": 12,
   "id": "e4d45f6d-cece-469d-9a9f-d75ecce348ff",
   "metadata": {},
   "outputs": [
    {
     "name": "stdin",
     "output_type": "stream",
     "text": [
      "Enter the number 100\n"
     ]
    },
    {
     "name": "stdout",
     "output_type": "stream",
     "text": [
      "3 times  \n"
     ]
    }
   ],
   "source": [
    "# Q4.\n",
    "number = int(input(\"Enter the number\"))\n",
    "c = number\n",
    "count = 0\n",
    "\n",
    "while(c>10):\n",
    "    count += 1\n",
    "    c = c // 3\n",
    "print(str(count) + \" times  \" )"
   ]
  },
  {
   "cell_type": "code",
   "execution_count": 2,
   "id": "d780628d-c78d-4ce4-9a77-ffac2b8c2a65",
   "metadata": {},
   "outputs": [
    {
     "name": "stdout",
     "output_type": "stream",
     "text": [
      "\n",
      "        Python while loop is used to run a block code until a certain condition is met.\n",
      "\n",
      "        The syntax of while loop is:\n",
      "\n",
      "        while condition:\n",
      "        # body of while loop\n",
      "        Here,\n",
      "\n",
      "        A while loop evaluates the condition\n",
      "        If the condition evaluates to True, the code inside the while loop is executed.\n",
      "            condition is evaluated again.\n",
      "        This process continues until the condition is False.\n",
      "        When condition evaluates to False, the loop stops.\n",
      "        \n",
      "1\n",
      "2\n",
      "3\n",
      "4\n",
      "5\n"
     ]
    },
    {
     "name": "stdin",
     "output_type": "stream",
     "text": [
      "Enter a number:  40\n",
      "Enter a number:  200\n",
      "Enter a number:  19\n",
      "Enter a number:  10\n",
      "Enter a number:  11\n",
      "Enter a number:  0\n"
     ]
    },
    {
     "name": "stdout",
     "output_type": "stream",
     "text": [
      "total = 280\n"
     ]
    }
   ],
   "source": [
    "# Q5.\n",
    "print('''\n",
    "        Python while loop is used to run a block code until a certain condition is met.\n",
    "\n",
    "        The syntax of while loop is:\n",
    "\n",
    "        while condition:\n",
    "        # body of while loop\n",
    "        Here,\n",
    "\n",
    "        A while loop evaluates the condition\n",
    "        If the condition evaluates to True, the code inside the while loop is executed.\n",
    "            condition is evaluated again.\n",
    "        This process continues until the condition is False.\n",
    "        When condition evaluates to False, the loop stops.\n",
    "        ''')\n",
    "# program to display numbers from 1 to 5\n",
    "\n",
    "# initialize the variable\n",
    "i = 1\n",
    "n = 5\n",
    "\n",
    "# while loop from i = 1 to 5\n",
    "while i <= n:\n",
    "    print(i)\n",
    "    i = i + 1\n",
    "# program to calculate the sum of numbers\n",
    "# until the user enters zero\n",
    "\n",
    "total = 0\n",
    "\n",
    "number = int(input('Enter a number: '))\n",
    "\n",
    "# add numbers until number is zero\n",
    "while number != 0:\n",
    "    total += number    # total = total + number\n",
    "    \n",
    "    # take integer input again\n",
    "    number = int(input('Enter a number: '))\n",
    "    \n",
    "\n",
    "print('total =', total)\n"
   ]
  },
  {
   "cell_type": "code",
   "execution_count": 31,
   "id": "ad8cafde-781b-4e54-8d1d-c0efafd406e7",
   "metadata": {},
   "outputs": [
    {
     "name": "stdout",
     "output_type": "stream",
     "text": [
      "* * * * *     *         * * * * * \n",
      "* * * * *     * *         * * * *   \n",
      "* * * * *     * * *         * * *     \n",
      "* * * * *     * * * *         * *       \n",
      "* * * * *     * * * * *         *         \n"
     ]
    }
   ],
   "source": [
    "#Q6.\n",
    "i=1\n",
    "while i<=5:\n",
    "    j = 1\n",
    "    while(j<=5):\n",
    "        print('*',end=' ')\n",
    "        j+=1\n",
    "    # print()\n",
    "    \n",
    "    j=1\n",
    "    while j<=2:\n",
    "        print(\" \",end=' ')\n",
    "        j+=1\n",
    "    j=1\n",
    "    while(j<=i):\n",
    "        print('*',end=' ')\n",
    "        j+=1\n",
    "    j=1\n",
    "    while j<=4:\n",
    "        print(\" \",end=' ')\n",
    "        j+=1\n",
    "    j=5\n",
    "    while(j>=1):\n",
    "        if j<=i-1:\n",
    "            print(\" \",end=\" \")\n",
    "        else:\n",
    "            print(\"*\",end=\" \")\n",
    "        j-=1\n",
    "    print()\n",
    "    i+=1"
   ]
  },
  {
   "cell_type": "code",
   "execution_count": 32,
   "id": "cf3ce26e-8e26-4069-8bec-4815962647c3",
   "metadata": {},
   "outputs": [
    {
     "name": "stdout",
     "output_type": "stream",
     "text": [
      "10\n",
      "9\n",
      "8\n",
      "7\n",
      "6\n",
      "5\n",
      "4\n",
      "3\n",
      "2\n",
      "1\n"
     ]
    }
   ],
   "source": [
    "#Q7.\n",
    "i=10\n",
    "while(i>0):\n",
    "    print(i)\n",
    "    i-=1"
   ]
  },
  {
   "cell_type": "code",
   "execution_count": null,
   "id": "ea99f707-88bf-429e-b3f5-1eeb7861d54e",
   "metadata": {},
   "outputs": [],
   "source": [
    "#Q8.\n"
   ]
  }
 ],
 "metadata": {
  "kernelspec": {
   "display_name": "Python 3 (ipykernel)",
   "language": "python",
   "name": "python3"
  },
  "language_info": {
   "codemirror_mode": {
    "name": "ipython",
    "version": 3
   },
   "file_extension": ".py",
   "mimetype": "text/x-python",
   "name": "python",
   "nbconvert_exporter": "python",
   "pygments_lexer": "ipython3",
   "version": "3.10.8"
  }
 },
 "nbformat": 4,
 "nbformat_minor": 5
}
